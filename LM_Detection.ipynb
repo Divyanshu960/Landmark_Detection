{
 "cells": [
  {
   "cell_type": "code",
   "execution_count": 1,
   "metadata": {},
   "outputs": [],
   "source": [
    "import streamlit as st\n",
    "import PIL\n",
    "import tensorflow as tf\n",
    "import tensorflow_hub as hub\n",
    "import numpy as np\n",
    "import pandas as pd\n",
    "from geopy.geocoders import Nominatim\n",
    "\n"
   ]
  },
  {
   "cell_type": "code",
   "execution_count": 3,
   "metadata": {},
   "outputs": [],
   "source": [
    "model_url = 'https://tfhub.dev/google/on_device_vision/classifier/landmarks_classifier_asia_V1/1'\n",
    "# model_url = 'on_device_vision_classifier_landmarks_classifier_asia_V1_1'\n",
    "\n",
    "# label_url = 'https://www.gstatic.com/aihub/tfhub/labelmaps/landmarks_classifier_asia_V1_label_map.csv'\n",
    "labels = 'landmarks_classifier_asia_V1_label_map.csv'\n",
    "df = pd.read_csv(labels)\n",
    "labels = dict(zip(df.id, df.name))"
   ]
  },
  {
   "cell_type": "code",
   "execution_count": 6,
   "metadata": {},
   "outputs": [],
   "source": [
    "\n",
    "\n",
    "def image_processing(image):\n",
    "    img_shape = (321, 321)\n",
    "    classifier = tf.keras.Sequential(\n",
    "        [hub.KerasLayer(model_url, input_shape=img_shape + (3,), output_key=\"predictions:logits\")])\n",
    "    img = PIL.Image.open(image)\n",
    "    img = img.resize(img_shape)\n",
    "    img1 = img\n",
    "    img = np.array(img) / 255.0\n",
    "    img = img[np.newaxis]\n",
    "    result = classifier.predict(img)\n",
    "    return labels[np.argmax(result)],img1\n",
    "\n"
   ]
  },
  {
   "cell_type": "code",
   "execution_count": 7,
   "metadata": {},
   "outputs": [],
   "source": [
    "def get_map(loc):\n",
    "    geolocator = Nominatim(user_agent=\"Your_Name\")\n",
    "    location = geolocator.geocode(loc)\n",
    "    return location.address,location.latitude, location.longitude\n",
    "\n"
   ]
  },
  {
   "cell_type": "code",
   "execution_count": 9,
   "metadata": {},
   "outputs": [],
   "source": [
    "def run():\n",
    "    st.title(\"Landmark Recognition\")\n",
    "    img = PIL.Image.open('logo.png')\n",
    "    img = img.resize((256,256))\n",
    "    st.image(img)\n",
    "    img_file = st.file_uploader(\"Choose your Image\", type=['png', 'jpg'])\n",
    "    if img_file is not None:\n",
    "        save_image_path = './Uploaded_Images/' + img_file.name\n",
    "        with open(save_image_path, \"wb\") as f:\n",
    "            f.write(img_file.getbuffer())\n",
    "        prediction,image = image_processing(save_image_path)\n",
    "        st.image(image)\n",
    "        st.header(\"📍 **Predicted Landmark is: \" + prediction + '**')\n",
    "        try:\n",
    "            address, latitude, longitude = get_map(prediction)\n",
    "            st.success('Address: '+address )\n",
    "            loc_dict = {'Latitude':latitude,'Longitude':longitude}\n",
    "            st.subheader('✅ **Latitude & Longitude of '+prediction+'**')\n",
    "            st.json(loc_dict)\n",
    "            data = [[latitude,longitude]]\n",
    "            df = pd.DataFrame(data, columns=['lat', 'lon'])\n",
    "            st.subheader('✅ **'+prediction +' on the Map**'+'🗺️')\n",
    "            st.map(df)\n",
    "        except Exception as e:\n",
    "            st.warning(\"No address found!!\")\n",
    "run()"
   ]
  }
 ],
 "metadata": {
  "kernelspec": {
   "display_name": "Python 3.9.7 64-bit",
   "language": "python",
   "name": "python3"
  },
  "language_info": {
   "codemirror_mode": {
    "name": "ipython",
    "version": 3
   },
   "file_extension": ".py",
   "mimetype": "text/x-python",
   "name": "python",
   "nbconvert_exporter": "python",
   "pygments_lexer": "ipython3",
   "version": "3.9.7"
  },
  "orig_nbformat": 4,
  "vscode": {
   "interpreter": {
    "hash": "b710555800fa4399364b2b4d79f1ed037442a82f7ab77eeda802d7bedc6a5b70"
   }
  }
 },
 "nbformat": 4,
 "nbformat_minor": 2
}
